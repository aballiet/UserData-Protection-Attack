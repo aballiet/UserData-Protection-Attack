{
 "cells": [
  {
   "cell_type": "markdown",
   "metadata": {},
   "source": [
    "# Re-identification of records"
   ]
  },
  {
   "cell_type": "code",
   "execution_count": 1,
   "metadata": {},
   "outputs": [],
   "source": [
    "import pandas as pd\n",
    "import numpy as np\n",
    "import matplotlib.pyplot as plt\n",
    "\n",
    "from collections import Counter"
   ]
  },
  {
   "cell_type": "code",
   "execution_count": 2,
   "metadata": {},
   "outputs": [],
   "source": [
    "df = pd.read_csv(\"raw_data.txt\", delimiter=r\"\\s+\")\n",
    "df['TIMESTAMP'] = pd.to_datetime(df['TIMESTAMP'], unit='s')\n",
    "df.set_index('TIMESTAMP', inplace=True)"
   ]
  },
  {
   "cell_type": "markdown",
   "metadata": {},
   "source": [
    "# Define variables"
   ]
  },
  {
   "cell_type": "code",
   "execution_count": 3,
   "metadata": {},
   "outputs": [],
   "source": [
    "# define scale\n",
    "GRID_DEFINITION = 15\n",
    "NB_POI = 3"
   ]
  },
  {
   "cell_type": "code",
   "execution_count": 4,
   "metadata": {},
   "outputs": [
    {
     "data": {
      "text/html": [
       "<div>\n",
       "<style scoped>\n",
       "    .dataframe tbody tr th:only-of-type {\n",
       "        vertical-align: middle;\n",
       "    }\n",
       "\n",
       "    .dataframe tbody tr th {\n",
       "        vertical-align: top;\n",
       "    }\n",
       "\n",
       "    .dataframe thead th {\n",
       "        text-align: right;\n",
       "    }\n",
       "</style>\n",
       "<table border=\"1\" class=\"dataframe\">\n",
       "  <thead>\n",
       "    <tr style=\"text-align: right;\">\n",
       "      <th></th>\n",
       "      <th>ID</th>\n",
       "      <th>LATITUDE</th>\n",
       "      <th>LONGITUDE</th>\n",
       "    </tr>\n",
       "    <tr>\n",
       "      <th>TIMESTAMP</th>\n",
       "      <th></th>\n",
       "      <th></th>\n",
       "      <th></th>\n",
       "    </tr>\n",
       "  </thead>\n",
       "  <tbody>\n",
       "    <tr>\n",
       "      <th>2014-12-07 01:13:49</th>\n",
       "      <td>11</td>\n",
       "      <td>4.871345</td>\n",
       "      <td>45.776045</td>\n",
       "    </tr>\n",
       "    <tr>\n",
       "      <th>2014-12-07 01:14:49</th>\n",
       "      <td>11</td>\n",
       "      <td>4.871457</td>\n",
       "      <td>45.775903</td>\n",
       "    </tr>\n",
       "    <tr>\n",
       "      <th>2014-12-07 01:15:49</th>\n",
       "      <td>11</td>\n",
       "      <td>4.871273</td>\n",
       "      <td>45.775905</td>\n",
       "    </tr>\n",
       "    <tr>\n",
       "      <th>2014-12-07 01:16:49</th>\n",
       "      <td>11</td>\n",
       "      <td>4.871337</td>\n",
       "      <td>45.775867</td>\n",
       "    </tr>\n",
       "    <tr>\n",
       "      <th>2014-12-07 01:17:49</th>\n",
       "      <td>11</td>\n",
       "      <td>4.871228</td>\n",
       "      <td>45.775907</td>\n",
       "    </tr>\n",
       "  </tbody>\n",
       "</table>\n",
       "</div>"
      ],
      "text/plain": [
       "                     ID  LATITUDE  LONGITUDE\n",
       "TIMESTAMP                                   \n",
       "2014-12-07 01:13:49  11  4.871345  45.776045\n",
       "2014-12-07 01:14:49  11  4.871457  45.775903\n",
       "2014-12-07 01:15:49  11  4.871273  45.775905\n",
       "2014-12-07 01:16:49  11  4.871337  45.775867\n",
       "2014-12-07 01:17:49  11  4.871228  45.775907"
      ]
     },
     "execution_count": 4,
     "metadata": {},
     "output_type": "execute_result"
    }
   ],
   "source": [
    "df.head()"
   ]
  },
  {
   "cell_type": "markdown",
   "metadata": {},
   "source": [
    "## Dataset properties"
   ]
  },
  {
   "cell_type": "code",
   "execution_count": 5,
   "metadata": {},
   "outputs": [
    {
     "data": {
      "text/plain": [
       "92"
      ]
     },
     "execution_count": 5,
     "metadata": {},
     "output_type": "execute_result"
    }
   ],
   "source": [
    "len(df.ID.unique())"
   ]
  },
  {
   "cell_type": "code",
   "execution_count": 6,
   "metadata": {},
   "outputs": [
    {
     "data": {
      "text/html": [
       "<div>\n",
       "<style scoped>\n",
       "    .dataframe tbody tr th:only-of-type {\n",
       "        vertical-align: middle;\n",
       "    }\n",
       "\n",
       "    .dataframe tbody tr th {\n",
       "        vertical-align: top;\n",
       "    }\n",
       "\n",
       "    .dataframe thead th {\n",
       "        text-align: right;\n",
       "    }\n",
       "</style>\n",
       "<table border=\"1\" class=\"dataframe\">\n",
       "  <thead>\n",
       "    <tr style=\"text-align: right;\">\n",
       "      <th></th>\n",
       "      <th>ID</th>\n",
       "      <th>LATITUDE</th>\n",
       "      <th>LONGITUDE</th>\n",
       "    </tr>\n",
       "    <tr>\n",
       "      <th>TIMESTAMP</th>\n",
       "      <th></th>\n",
       "      <th></th>\n",
       "      <th></th>\n",
       "    </tr>\n",
       "  </thead>\n",
       "  <tbody>\n",
       "    <tr>\n",
       "      <th>2014-12-07 01:13:49</th>\n",
       "      <td>11</td>\n",
       "      <td>4.871345</td>\n",
       "      <td>45.776045</td>\n",
       "    </tr>\n",
       "    <tr>\n",
       "      <th>2014-12-07 01:14:49</th>\n",
       "      <td>11</td>\n",
       "      <td>4.871457</td>\n",
       "      <td>45.775903</td>\n",
       "    </tr>\n",
       "    <tr>\n",
       "      <th>2014-12-07 01:15:49</th>\n",
       "      <td>11</td>\n",
       "      <td>4.871273</td>\n",
       "      <td>45.775905</td>\n",
       "    </tr>\n",
       "    <tr>\n",
       "      <th>2014-12-07 01:16:49</th>\n",
       "      <td>11</td>\n",
       "      <td>4.871337</td>\n",
       "      <td>45.775867</td>\n",
       "    </tr>\n",
       "    <tr>\n",
       "      <th>2014-12-07 01:17:49</th>\n",
       "      <td>11</td>\n",
       "      <td>4.871228</td>\n",
       "      <td>45.775907</td>\n",
       "    </tr>\n",
       "    <tr>\n",
       "      <th>...</th>\n",
       "      <td>...</td>\n",
       "      <td>...</td>\n",
       "      <td>...</td>\n",
       "    </tr>\n",
       "    <tr>\n",
       "      <th>2014-12-19 15:37:26</th>\n",
       "      <td>11</td>\n",
       "      <td>4.871218</td>\n",
       "      <td>45.776108</td>\n",
       "    </tr>\n",
       "    <tr>\n",
       "      <th>2014-12-19 15:38:43</th>\n",
       "      <td>11</td>\n",
       "      <td>4.871228</td>\n",
       "      <td>45.776093</td>\n",
       "    </tr>\n",
       "    <tr>\n",
       "      <th>2014-12-19 16:38:29</th>\n",
       "      <td>11</td>\n",
       "      <td>4.871518</td>\n",
       "      <td>45.775938</td>\n",
       "    </tr>\n",
       "    <tr>\n",
       "      <th>2014-12-19 16:39:29</th>\n",
       "      <td>11</td>\n",
       "      <td>4.871587</td>\n",
       "      <td>45.775960</td>\n",
       "    </tr>\n",
       "    <tr>\n",
       "      <th>2014-12-19 17:10:58</th>\n",
       "      <td>11</td>\n",
       "      <td>4.871790</td>\n",
       "      <td>45.775907</td>\n",
       "    </tr>\n",
       "  </tbody>\n",
       "</table>\n",
       "<p>3462 rows × 3 columns</p>\n",
       "</div>"
      ],
      "text/plain": [
       "                     ID  LATITUDE  LONGITUDE\n",
       "TIMESTAMP                                   \n",
       "2014-12-07 01:13:49  11  4.871345  45.776045\n",
       "2014-12-07 01:14:49  11  4.871457  45.775903\n",
       "2014-12-07 01:15:49  11  4.871273  45.775905\n",
       "2014-12-07 01:16:49  11  4.871337  45.775867\n",
       "2014-12-07 01:17:49  11  4.871228  45.775907\n",
       "...                  ..       ...        ...\n",
       "2014-12-19 15:37:26  11  4.871218  45.776108\n",
       "2014-12-19 15:38:43  11  4.871228  45.776093\n",
       "2014-12-19 16:38:29  11  4.871518  45.775938\n",
       "2014-12-19 16:39:29  11  4.871587  45.775960\n",
       "2014-12-19 17:10:58  11  4.871790  45.775907\n",
       "\n",
       "[3462 rows x 3 columns]"
      ]
     },
     "execution_count": 6,
     "metadata": {},
     "output_type": "execute_result"
    }
   ],
   "source": [
    "df[df.ID == 11]"
   ]
  },
  {
   "cell_type": "code",
   "execution_count": 7,
   "metadata": {},
   "outputs": [
    {
     "data": {
      "image/png": "[encoded data removed]",
      "text/plain": [
       "<Figure size 432x288 with 1 Axes>"
      ]
     },
     "metadata": {
      "needs_background": "light"
     },
     "output_type": "display_data"
    }
   ],
   "source": [
    "plt.scatter(x=df[df.ID == 11]['LONGITUDE'], y=df[df.ID == 11]['LATITUDE'])\n",
    "plt.show()"
   ]
  },
  {
   "cell_type": "code",
   "execution_count": 8,
   "metadata": {},
   "outputs": [
    {
     "data": {
      "image/png": "[encoded data removed]",
      "text/plain": [
       "<Figure size 432x288 with 1 Axes>"
      ]
     },
     "metadata": {
      "needs_background": "light"
     },
     "output_type": "display_data"
    }
   ],
   "source": [
    "plt.scatter(x=df[df.ID == 42]['LONGITUDE'], y=df[df.ID == 42]['LATITUDE'])\n",
    "plt.show()"
   ]
  },
  {
   "cell_type": "markdown",
   "metadata": {},
   "source": [
    "## Create grill"
   ]
  },
  {
   "cell_type": "code",
   "execution_count": 9,
   "metadata": {},
   "outputs": [
    {
     "data": {
      "text/html": [
       "<div>\n",
       "<style scoped>\n",
       "    .dataframe tbody tr th:only-of-type {\n",
       "        vertical-align: middle;\n",
       "    }\n",
       "\n",
       "    .dataframe tbody tr th {\n",
       "        vertical-align: top;\n",
       "    }\n",
       "\n",
       "    .dataframe thead th {\n",
       "        text-align: right;\n",
       "    }\n",
       "</style>\n",
       "<table border=\"1\" class=\"dataframe\">\n",
       "  <thead>\n",
       "    <tr style=\"text-align: right;\">\n",
       "      <th></th>\n",
       "      <th>ID</th>\n",
       "      <th>LATITUDE</th>\n",
       "      <th>LONGITUDE</th>\n",
       "    </tr>\n",
       "  </thead>\n",
       "  <tbody>\n",
       "    <tr>\n",
       "      <th>count</th>\n",
       "      <td>829506.000000</td>\n",
       "      <td>829506.000000</td>\n",
       "      <td>829506.000000</td>\n",
       "    </tr>\n",
       "    <tr>\n",
       "      <th>mean</th>\n",
       "      <td>42.899221</td>\n",
       "      <td>4.868840</td>\n",
       "      <td>45.772308</td>\n",
       "    </tr>\n",
       "    <tr>\n",
       "      <th>std</th>\n",
       "      <td>24.880798</td>\n",
       "      <td>0.013379</td>\n",
       "      <td>0.013498</td>\n",
       "    </tr>\n",
       "    <tr>\n",
       "      <th>min</th>\n",
       "      <td>1.000000</td>\n",
       "      <td>4.790898</td>\n",
       "      <td>45.715932</td>\n",
       "    </tr>\n",
       "    <tr>\n",
       "      <th>25%</th>\n",
       "      <td>25.000000</td>\n",
       "      <td>4.866228</td>\n",
       "      <td>45.762708</td>\n",
       "    </tr>\n",
       "    <tr>\n",
       "      <th>50%</th>\n",
       "      <td>44.000000</td>\n",
       "      <td>4.871318</td>\n",
       "      <td>45.778376</td>\n",
       "    </tr>\n",
       "    <tr>\n",
       "      <th>75%</th>\n",
       "      <td>67.000000</td>\n",
       "      <td>4.873620</td>\n",
       "      <td>45.784103</td>\n",
       "    </tr>\n",
       "    <tr>\n",
       "      <th>max</th>\n",
       "      <td>116.000000</td>\n",
       "      <td>4.915523</td>\n",
       "      <td>45.800955</td>\n",
       "    </tr>\n",
       "  </tbody>\n",
       "</table>\n",
       "</div>"
      ],
      "text/plain": [
       "                  ID       LATITUDE      LONGITUDE\n",
       "count  829506.000000  829506.000000  829506.000000\n",
       "mean       42.899221       4.868840      45.772308\n",
       "std        24.880798       0.013379       0.013498\n",
       "min         1.000000       4.790898      45.715932\n",
       "25%        25.000000       4.866228      45.762708\n",
       "50%        44.000000       4.871318      45.778376\n",
       "75%        67.000000       4.873620      45.784103\n",
       "max       116.000000       4.915523      45.800955"
      ]
     },
     "execution_count": 9,
     "metadata": {},
     "output_type": "execute_result"
    }
   ],
   "source": [
    "df.describe()"
   ]
  },
  {
   "cell_type": "markdown",
   "metadata": {},
   "source": [
    "### Create longitude and latitude bins"
   ]
  },
  {
   "cell_type": "code",
   "execution_count": 10,
   "metadata": {},
   "outputs": [],
   "source": [
    "def createBins(df, GRID_DEFINITION):\n",
    "    MIN, MAX = df['LATITUDE'].min(), df['LATITUDE'].max()\n",
    "\n",
    "    STEP = (MAX - MIN) / GRID_DEFINITION\n",
    "\n",
    "    latitude_grill = np.arange(MIN, MAX, STEP)\n",
    "    print(\"Nombre de bins pour latitude {}\".format(len(latitude_grill)))\n",
    "    \n",
    "    MIN, MAX = df['LONGITUDE'].min(), df['LONGITUDE'].max()\n",
    "\n",
    "    STEP = (MAX - MIN) / GRID_DEFINITION\n",
    "\n",
    "    longitude_grill = np.arange(MIN, MAX, STEP)\n",
    "    print(\"Nombre de bins pour longitude {}\".format(len(longitude_grill)))\n",
    "    \n",
    "    return latitude_grill, longitude_grill"
   ]
  },
  {
   "cell_type": "code",
   "execution_count": 11,
   "metadata": {},
   "outputs": [],
   "source": [
    "def compute_POI(user, df_users, nb_POI=1):\n",
    "    # List initialization \n",
    "    Input = list(zip(df_users[user][\"new_longitude\"], df_users[user][\"new_latitude\"]))\n",
    "\n",
    "    list_POI = Counter(elem for elem in Input).most_common(nb_POI)\n",
    "    coordinates, freq = zip(*list_POI)\n",
    "    return coordinates"
   ]
  },
  {
   "cell_type": "code",
   "execution_count": 12,
   "metadata": {},
   "outputs": [],
   "source": [
    "users = df.ID.unique()"
   ]
  },
  {
   "cell_type": "code",
   "execution_count": 13,
   "metadata": {},
   "outputs": [
    {
     "name": "stdout",
     "output_type": "stream",
     "text": [
      "Nombre de bins pour latitude 15\n",
      "Nombre de bins pour longitude 15\n"
     ]
    }
   ],
   "source": [
    "latitude_grill, longitude_grill = createBins(df, GRID_DEFINITION)"
   ]
  },
  {
   "cell_type": "code",
   "execution_count": 14,
   "metadata": {},
   "outputs": [],
   "source": [
    "df_users = {}\n",
    "\n",
    "# Create dictionnay of values with converted longitude and latitude\n",
    "for user in users:\n",
    "    temp_dict = {}\n",
    "    temp_dict[\"new_longitude\"] = pd.cut(df[df.ID == user]['LONGITUDE'], bins=longitude_grill, right=True, labels=False).to_list()\n",
    "    temp_dict[\"new_latitude\"]  = pd.cut(df[df.ID == user]['LATITUDE'],  bins=latitude_grill,  right=True, labels=False).to_list()\n",
    "    df_users[user] = temp_dict"
   ]
  },
  {
   "cell_type": "code",
   "execution_count": 15,
   "metadata": {},
   "outputs": [
    {
     "data": {
      "image/png": "[encoded data removed]",
      "text/plain": [
       "<Figure size 432x288 with 1 Axes>"
      ]
     },
     "metadata": {
      "needs_background": "light"
     },
     "output_type": "display_data"
    }
   ],
   "source": [
    "USER = 42\n",
    "plt.scatter(x=df_users[USER][\"new_longitude\"], y=df_users[USER][\"new_latitude\"])\n",
    "plt.show()"
   ]
  },
  {
   "cell_type": "code",
   "execution_count": 16,
   "metadata": {},
   "outputs": [],
   "source": [
    "res = {}\n",
    "for user in users:\n",
    "    res[user] = compute_POI(user, df_users, nb_POI=NB_POI)"
   ]
  },
  {
   "cell_type": "markdown",
   "metadata": {},
   "source": [
    "### Plot an example"
   ]
  },
  {
   "cell_type": "code",
   "execution_count": 17,
   "metadata": {},
   "outputs": [],
   "source": [
    "x = [list(t) for t in zip(*res[USER])][0]\n",
    "y = [list(t) for t in zip(*res[USER])][1]"
   ]
  },
  {
   "cell_type": "code",
   "execution_count": 18,
   "metadata": {
    "scrolled": true
   },
   "outputs": [
    {
     "data": {
      "image/png": "[encoded data removed]",
      "text/plain": [
       "<Figure size 432x288 with 1 Axes>"
      ]
     },
     "metadata": {
      "needs_background": "light"
     },
     "output_type": "display_data"
    }
   ],
   "source": [
    "plt.scatter(x=df_users[USER][\"new_longitude\"], y=df_users[USER][\"new_latitude\"], c='b')\n",
    "plt.scatter(x=x, y=y, s=10, c='r')\n",
    "plt.show()"
   ]
  },
  {
   "cell_type": "markdown",
   "metadata": {},
   "source": [
    "# Compute RMSE between original and obfuscated"
   ]
  },
  {
   "cell_type": "markdown",
   "metadata": {},
   "source": [
    "## Load obfuscated file"
   ]
  },
  {
   "cell_type": "markdown",
   "metadata": {},
   "source": [
    "## Compute distance"
   ]
  },
  {
   "cell_type": "code",
   "execution_count": 19,
   "metadata": {},
   "outputs": [],
   "source": [
    "def compute_distance(tuple1, tuple2):\n",
    "    dimension = len(tuple1)\n",
    "    \n",
    "    if(dimension != len(tuple2)):\n",
    "        return np.inf\n",
    "        \n",
    "    distance = 0\n",
    "    \n",
    "    for i in range(dimension):\n",
    "        distance += (tuple1[i][0] - tuple2[i][0])**2 + (tuple1[i][1] - tuple2[i][1])**2\n",
    "    return distance"
   ]
  },
  {
   "cell_type": "code",
   "execution_count": 20,
   "metadata": {},
   "outputs": [],
   "source": [
    "def compute_success_from_file(filename, NB_POI, GRID_DEFINITION):\n",
    "    df2 = pd.read_csv(filename, delimiter=r\"\\s+\")\n",
    "    \n",
    "    # Compute Grid with alterated values\n",
    "    latitude_grill2, longitude_grill2 = createBins(df2, GRID_DEFINITION)\n",
    "\n",
    "    # Retrieve user list\n",
    "    users = df2.ID.unique()\n",
    "\n",
    "    df2_users = {}\n",
    "\n",
    "    # Create dictionnay of values with converted longitude and latitude\n",
    "    for user in users:\n",
    "        temp_dict = {}\n",
    "        temp_dict[\"new_longitude\"] = pd.cut(df2[df2.ID == user]['LONGITUDE'], bins=longitude_grill2, right=True, labels=False).to_list()\n",
    "        temp_dict[\"new_latitude\"]  = pd.cut(df2[df2.ID == user]['LATITUDE'],  bins=latitude_grill2,  right=True, labels=False).to_list()\n",
    "        df2_users[user] = temp_dict\n",
    "        \n",
    "    # FInd POI\n",
    "    res2 = {}\n",
    "    for user in users:\n",
    "        res2[user] = compute_POI(user, df2_users, nb_POI=NB_POI)\n",
    "        \n",
    "    # Select a user we will re-identify\n",
    "    predict_count = 0\n",
    "\n",
    "    for SELECTED_USER in users:\n",
    "\n",
    "        list_distance = []\n",
    "\n",
    "        for user in users:\n",
    "            distance = compute_distance(res[SELECTED_USER], res2[user])\n",
    "            list_distance.append(distance)\n",
    "\n",
    "        if (SELECTED_USER == users[np.argmin(list_distance)]):\n",
    "            predict_count += 1\n",
    "\n",
    "        #print(\"{} is {} in OBFUSCATED with distance : {} \".format(SELECTED_USER, users[np.argmin(list_distance)], min(list_distance)))\n",
    "\n",
    "    print(\"Success rate {}\".format(predict_count/len(users)))"
   ]
  },
  {
   "cell_type": "code",
   "execution_count": 21,
   "metadata": {},
   "outputs": [
    {
     "name": "stdout",
     "output_type": "stream",
     "text": [
      "Nombre de bins pour latitude 15\n",
      "Nombre de bins pour longitude 15\n",
      "Success rate 0.8804347826086957\n"
     ]
    }
   ],
   "source": [
    "compute_success_from_file(filename=\"bruit_faible.txt\", NB_POI=NB_POI, GRID_DEFINITION=GRID_DEFINITION)"
   ]
  },
  {
   "cell_type": "code",
   "execution_count": 22,
   "metadata": {},
   "outputs": [
    {
     "name": "stdout",
     "output_type": "stream",
     "text": [
      "Nombre de bins pour latitude 16\n",
      "Nombre de bins pour longitude 15\n",
      "Success rate 0.31521739130434784\n"
     ]
    }
   ],
   "source": [
    "compute_success_from_file(filename=\"bruit_moyen.txt\", NB_POI=NB_POI, GRID_DEFINITION=GRID_DEFINITION)"
   ]
  },
  {
   "cell_type": "code",
   "execution_count": 23,
   "metadata": {},
   "outputs": [
    {
     "name": "stdout",
     "output_type": "stream",
     "text": [
      "Nombre de bins pour latitude 15\n",
      "Nombre de bins pour longitude 15\n",
      "Success rate 0.08695652173913043\n"
     ]
    }
   ],
   "source": [
    "compute_success_from_file(filename=\"bruit_fort.txt\", NB_POI=NB_POI, GRID_DEFINITION=GRID_DEFINITION)"
   ]
  }
 ],
 "metadata": {
  "kernelspec": {
   "display_name": "Python 3",
   "language": "python",
   "name": "python3"
  },
  "language_info": {
   "codemirror_mode": {
    "name": "ipython",
    "version": 3
   },
   "file_extension": ".py",
   "mimetype": "text/x-python",
   "name": "python",
   "nbconvert_exporter": "python",
   "pygments_lexer": "ipython3",
   "version": "3.8.5"
  }
 },
 "nbformat": 4,
 "nbformat_minor": 4
}
