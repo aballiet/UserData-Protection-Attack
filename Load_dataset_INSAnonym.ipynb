{
  "nbformat": 4,
  "nbformat_minor": 0,
  "metadata": {
    "colab": {
      "name": "Load dataset INSAnonym.ipynb",
      "provenance": [],
      "authorship_tag": "ABX9TyN037Az39roGK/oQPFWnCE/",
      "include_colab_link": true
    },
    "kernelspec": {
      "name": "python3",
      "display_name": "Python 3"
    }
  },
  "cells": [
    {
      "cell_type": "markdown",
      "metadata": {
        "id": "view-in-github",
        "colab_type": "text"
      },
      "source": [
        "<a href=\"https://colab.research.google.com/github/aballiet/UserData-Protection-Attack/blob/main/Load_dataset_INSAnonym.ipynb\" target=\"_parent\"><img src=\"https://colab.research.google.com/assets/colab-badge.svg\" alt=\"Open In Colab\"/></a>"
      ]
    },
    {
      "cell_type": "markdown",
      "metadata": {
        "id": "yBUjybLpN9A-"
      },
      "source": [
        "## Load Drive module\r\n",
        "You will have to authenticate by providing a temporary key and browse your Drive"
      ]
    },
    {
      "cell_type": "code",
      "metadata": {
        "colab": {
          "base_uri": "https://localhost:8080/"
        },
        "id": "PvbX2PtfJIg5",
        "outputId": "7548e259-9954-4cf3-c1b7-cba69ceb579d"
      },
      "source": [
        "from google.colab import drive\r\n",
        "drive.mount('/content/drive')"
      ],
      "execution_count": 1,
      "outputs": [
        {
          "output_type": "stream",
          "text": [
            "Drive already mounted at /content/drive; to attempt to forcibly remount, call drive.mount(\"/content/drive\", force_remount=True).\n"
          ],
          "name": "stdout"
        }
      ]
    },
    {
      "cell_type": "code",
      "metadata": {
        "id": "vUzUgf5tOBnN"
      },
      "source": [
        "!cp ./drive/MyDrive/INSAnonym.zip ."
      ],
      "execution_count": 2,
      "outputs": []
    },
    {
      "cell_type": "markdown",
      "metadata": {
        "id": "Di_elm_yKDha"
      },
      "source": [
        "## Load dataset"
      ]
    },
    {
      "cell_type": "code",
      "metadata": {
        "colab": {
          "base_uri": "https://localhost:8080/"
        },
        "id": "lTdS9cgRKjHV",
        "outputId": "8d5e9ce0-4230-468d-ba58-9065c761ce34"
      },
      "source": [
        "!unzip INSAnonym.zip"
      ],
      "execution_count": 4,
      "outputs": [
        {
          "output_type": "stream",
          "text": [
            "Archive:  INSAnonym.zip\n",
            "replace challenge-dataset-time1.csv? [y]es, [n]o, [A]ll, [N]one, [r]ename: n\n"
          ],
          "name": "stdout"
        }
      ]
    },
    {
      "cell_type": "code",
      "metadata": {
        "id": "hm9c_qUXOr4S"
      },
      "source": [
        "import pandas as pd"
      ],
      "execution_count": 5,
      "outputs": []
    },
    {
      "cell_type": "code",
      "metadata": {
        "id": "SpZheoxYOvUI"
      },
      "source": [
        "df = pd.read_csv('./challenge-dataset-time1.csv', header=None, delimiter=r\"\\s+\",\r\n",
        "                 names=[ 'ID', 'Date' 'Time', 'Longitude', 'Latitude'])"
      ],
      "execution_count": 6,
      "outputs": []
    },
    {
      "cell_type": "code",
      "metadata": {
        "colab": {
          "base_uri": "https://localhost:8080/",
          "height": 202
        },
        "id": "f4b6wqfCPi0z",
        "outputId": "087878bb-ebad-48d9-f303-a128d7e11f1c"
      },
      "source": [
        "df.head()"
      ],
      "execution_count": 9,
      "outputs": [
        {
          "output_type": "execute_result",
          "data": {
            "text/html": [
              "<div>\n",
              "<style scoped>\n",
              "    .dataframe tbody tr th:only-of-type {\n",
              "        vertical-align: middle;\n",
              "    }\n",
              "\n",
              "    .dataframe tbody tr th {\n",
              "        vertical-align: top;\n",
              "    }\n",
              "\n",
              "    .dataframe thead th {\n",
              "        text-align: right;\n",
              "    }\n",
              "</style>\n",
              "<table border=\"1\" class=\"dataframe\">\n",
              "  <thead>\n",
              "    <tr style=\"text-align: right;\">\n",
              "      <th></th>\n",
              "      <th>ID</th>\n",
              "      <th>DateTime</th>\n",
              "      <th>Longitude</th>\n",
              "      <th>Latitude</th>\n",
              "    </tr>\n",
              "  </thead>\n",
              "  <tbody>\n",
              "    <tr>\n",
              "      <th>1</th>\n",
              "      <td>2015-03-04</td>\n",
              "      <td>00:35:16</td>\n",
              "      <td>4.870147</td>\n",
              "      <td>45.772140</td>\n",
              "    </tr>\n",
              "    <tr>\n",
              "      <th>1</th>\n",
              "      <td>2015-03-04</td>\n",
              "      <td>00:35:48</td>\n",
              "      <td>4.870218</td>\n",
              "      <td>45.772095</td>\n",
              "    </tr>\n",
              "    <tr>\n",
              "      <th>1</th>\n",
              "      <td>2015-03-04</td>\n",
              "      <td>00:35:49</td>\n",
              "      <td>4.870210</td>\n",
              "      <td>45.772072</td>\n",
              "    </tr>\n",
              "    <tr>\n",
              "      <th>1</th>\n",
              "      <td>2015-03-04</td>\n",
              "      <td>00:35:50</td>\n",
              "      <td>4.870210</td>\n",
              "      <td>45.772072</td>\n",
              "    </tr>\n",
              "    <tr>\n",
              "      <th>1</th>\n",
              "      <td>2015-03-04</td>\n",
              "      <td>00:35:52</td>\n",
              "      <td>4.870210</td>\n",
              "      <td>45.772072</td>\n",
              "    </tr>\n",
              "  </tbody>\n",
              "</table>\n",
              "</div>"
            ],
            "text/plain": [
              "           ID  DateTime  Longitude   Latitude\n",
              "1  2015-03-04  00:35:16   4.870147  45.772140\n",
              "1  2015-03-04  00:35:48   4.870218  45.772095\n",
              "1  2015-03-04  00:35:49   4.870210  45.772072\n",
              "1  2015-03-04  00:35:50   4.870210  45.772072\n",
              "1  2015-03-04  00:35:52   4.870210  45.772072"
            ]
          },
          "metadata": {
            "tags": []
          },
          "execution_count": 9
        }
      ]
    },
    {
      "cell_type": "code",
      "metadata": {
        "id": "gRb0qq-EQgLZ"
      },
      "source": [
        ""
      ],
      "execution_count": null,
      "outputs": []
    }
  ]
}