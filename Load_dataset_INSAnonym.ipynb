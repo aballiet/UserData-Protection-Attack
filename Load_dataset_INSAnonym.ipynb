{
  "nbformat": 4,
  "nbformat_minor": 0,
  "metadata": {
    "colab": {
      "name": "Load dataset INSAnonym.ipynb",
      "provenance": [],
      "authorship_tag": "ABX9TyPbyLUXvoL6Dp1vPPM3kQ+x",
      "include_colab_link": true
    },
    "kernelspec": {
      "name": "python3",
      "display_name": "Python 3"
    }
  },
  "cells": [
    {
      "cell_type": "markdown",
      "metadata": {
        "id": "view-in-github",
        "colab_type": "text"
      },
      "source": [
        "<a href=\"https://colab.research.google.com/github/aballiet/UserData-Protection-Attack/blob/main/Load_dataset_INSAnonym.ipynb\" target=\"_parent\"><img src=\"https://colab.research.google.com/assets/colab-badge.svg\" alt=\"Open In Colab\"/></a>"
      ]
    },
    {
      "cell_type": "markdown",
      "metadata": {
        "id": "HHWGMtkVsmt5"
      },
      "source": [
        "# Compute POI of different users to create a unique fingerprint\r\n",
        "\r\n",
        "*   Transpose coordinates in a grid \r\n",
        "*   Find cells that contain the highest number of records per user\r\n"
      ]
    },
    {
      "cell_type": "markdown",
      "metadata": {
        "id": "yBUjybLpN9A-"
      },
      "source": [
        "## Load Drive module\r\n",
        "You will have to authenticate by providing a temporary key and browse your Drive"
      ]
    },
    {
      "cell_type": "code",
      "metadata": {
        "colab": {
          "base_uri": "https://localhost:8080/"
        },
        "id": "PvbX2PtfJIg5",
        "outputId": "7c434e3f-15df-467d-c16c-2c8fe7c55f61"
      },
      "source": [
        "from google.colab import drive\r\n",
        "drive.mount('/content/drive')"
      ],
      "execution_count": 1,
      "outputs": [
        {
          "output_type": "stream",
          "text": [
            "Drive already mounted at /content/drive; to attempt to forcibly remount, call drive.mount(\"/content/drive\", force_remount=True).\n"
          ],
          "name": "stdout"
        }
      ]
    },
    {
      "cell_type": "code",
      "metadata": {
        "id": "vUzUgf5tOBnN"
      },
      "source": [
        "!cp ./drive/MyDrive/INSAnonym.zip ."
      ],
      "execution_count": 2,
      "outputs": []
    },
    {
      "cell_type": "markdown",
      "metadata": {
        "id": "Di_elm_yKDha"
      },
      "source": [
        "## Load dataset"
      ]
    },
    {
      "cell_type": "code",
      "metadata": {
        "colab": {
          "base_uri": "https://localhost:8080/"
        },
        "id": "lTdS9cgRKjHV",
        "outputId": "98d6e2b9-23a5-402a-d533-5ad902d36496"
      },
      "source": [
        "!unzip INSAnonym.zip"
      ],
      "execution_count": 3,
      "outputs": [
        {
          "output_type": "stream",
          "text": [
            "Archive:  INSAnonym.zip\n",
            "replace challenge-dataset-time1.csv? [y]es, [n]o, [A]ll, [N]one, [r]ename: n\n"
          ],
          "name": "stdout"
        }
      ]
    },
    {
      "cell_type": "code",
      "metadata": {
        "id": "hm9c_qUXOr4S"
      },
      "source": [
        "import pandas as pd\r\n",
        "import datetime\r\n",
        "import random"
      ],
      "execution_count": 4,
      "outputs": []
    },
    {
      "cell_type": "code",
      "metadata": {
        "id": "SpZheoxYOvUI"
      },
      "source": [
        "df = pd.read_csv('./challenge-dataset-time1.csv',\r\n",
        "                 header=None, delimiter=r\"\\s+\",\r\n",
        "                 names=[ 'ID', 'Date', 'Time', 'LONGITUDE', 'LATITUDE'],\r\n",
        "                 index_col=False, parse_dates=[['Date', 'Time']])\r\n",
        "\r\n",
        "df.set_index('Date_Time', inplace=True)\r\n",
        "df.sort_index(inplace=True)"
      ],
      "execution_count": 5,
      "outputs": []
    },
    {
      "cell_type": "markdown",
      "metadata": {
        "id": "8ez-B0uvU6I2"
      },
      "source": [
        "## Analyzing Dataset"
      ]
    },
    {
      "cell_type": "code",
      "metadata": {
        "colab": {
          "base_uri": "https://localhost:8080/"
        },
        "id": "u39X5IRTUafc",
        "outputId": "e90f36bd-5a92-452d-b86f-28ec3fe017a9"
      },
      "source": [
        "print(\"Nomre d'ID distincts : {}\".format(len(df['ID'].unique())))\r\n",
        "print(\"Nomre dE LIGNES : {}\".format(len(df.index)))\r\n",
        "print(df.describe())"
      ],
      "execution_count": 6,
      "outputs": [
        {
          "output_type": "stream",
          "text": [
            "Nomre d'ID distincts : 69\n",
            "Nomre dE LIGNES : 34551849\n",
            "                 ID     LONGITUDE      LATITUDE\n",
            "count  3.455185e+07  3.455185e+07  3.455185e+07\n",
            "mean   4.053062e+01  4.156421e+00  4.574998e+01\n",
            "std    2.662001e+01  1.113335e+01  2.105010e+00\n",
            "min    1.000000e+00 -9.777081e+01  1.470705e+01\n",
            "25%    1.300000e+01  4.852867e+00  4.575517e+01\n",
            "50%    4.200000e+01  4.871393e+00  4.577719e+01\n",
            "75%    6.500000e+01  4.879890e+00  4.578436e+01\n",
            "max    1.100000e+02  1.218053e+02  6.789427e+01\n"
          ],
          "name": "stdout"
        }
      ]
    },
    {
      "cell_type": "code",
      "metadata": {
        "id": "6wVld1o2VEZK"
      },
      "source": [
        "import matplotlib.pyplot as plt\r\n",
        "import numpy as np"
      ],
      "execution_count": 7,
      "outputs": []
    },
    {
      "cell_type": "code",
      "metadata": {
        "colab": {
          "base_uri": "https://localhost:8080/",
          "height": 265
        },
        "id": "BxNnRfuAWZt8",
        "outputId": "7e120e60-fd2c-425d-acf2-3a310c7f1c1e"
      },
      "source": [
        "USER_ID = 44\r\n",
        "plt.scatter(x=df[df.ID == USER_ID]['LONGITUDE'], y=df[df.ID == USER_ID]['LATITUDE'])\r\n",
        "plt.show()"
      ],
      "execution_count": 8,
      "outputs": [
        {
          "output_type": "display_data",
          "data": {
            "image/png": "[encoded data removed]",
            "text/plain": [
              "<Figure size 432x288 with 1 Axes>"
            ]
          },
          "metadata": {
            "tags": [],
            "needs_background": "light"
          }
        }
      ]
    },
    {
      "cell_type": "markdown",
      "metadata": {
        "id": "Um3bDqMMZfOJ"
      },
      "source": [
        "## Compute POI"
      ]
    },
    {
      "cell_type": "code",
      "metadata": {
        "id": "5NhbvB3rWD_t"
      },
      "source": [
        "# import Counter to find duplicated tuples\r\n",
        "from collections import Counter\r\n",
        "\r\n",
        "USERS = df['ID'].unique()\r\n",
        "\r\n",
        "# define scale\r\n",
        "grid_definition = 1e5\r\n",
        "nb_poi = 3"
      ],
      "execution_count": 9,
      "outputs": []
    },
    {
      "cell_type": "code",
      "metadata": {
        "id": "JjImc0N3Xi7D"
      },
      "source": [
        "def createBins(df, GRID_DEFINITION):\r\n",
        "    MIN, MAX = df['LATITUDE'].min(), df['LATITUDE'].max()\r\n",
        "\r\n",
        "    STEP = (MAX - MIN) / GRID_DEFINITION\r\n",
        "\r\n",
        "    latitude_grill = np.arange(MIN, MAX, STEP)\r\n",
        "    print(\"Nombre de bins pour latitude {}\".format(len(latitude_grill)))\r\n",
        "    \r\n",
        "    MIN, MAX = df['LONGITUDE'].min(), df['LONGITUDE'].max()\r\n",
        "\r\n",
        "    STEP = (MAX - MIN) / GRID_DEFINITION\r\n",
        "\r\n",
        "    longitude_grill = np.arange(MIN, MAX, STEP)\r\n",
        "    print(\"Nombre de bins pour longitude {}\".format(len(longitude_grill)))\r\n",
        "    \r\n",
        "    return latitude_grill, longitude_grill"
      ],
      "execution_count": 10,
      "outputs": []
    },
    {
      "cell_type": "code",
      "metadata": {
        "id": "ZuT0qqLOXoUn"
      },
      "source": [
        "def compute_POI(user, df_users, nb_POI=1):\r\n",
        "    # List initialization \r\n",
        "    Input = list(zip(df_users[user][\"new_longitude\"], df_users[user][\"new_latitude\"]))\r\n",
        "\r\n",
        "    list_POI = Counter(elem for elem in Input).most_common(nb_POI)\r\n",
        "    coordinates, freq = zip(*list_POI)\r\n",
        "    return coordinates, freq"
      ],
      "execution_count": 11,
      "outputs": []
    },
    {
      "cell_type": "code",
      "metadata": {
        "colab": {
          "base_uri": "https://localhost:8080/",
          "height": 300
        },
        "id": "MlqnSdAFYaXQ",
        "outputId": "e789ad2c-0ef4-4b59-d79e-0a3b19c0c065"
      },
      "source": [
        "latitude_grill, longitude_grill = createBins(df, grid_definition)\r\n",
        "\r\n",
        "df_users = {}\r\n",
        "\r\n",
        "# Create dictionnay of values with converted longitude and latitude\r\n",
        "for user in USERS:\r\n",
        "    temp_dict = {}\r\n",
        "    temp_dict[\"new_longitude\"] = pd.cut(df[df.ID == user]['LONGITUDE'], bins=longitude_grill, right=True, labels=False).to_list()\r\n",
        "    temp_dict[\"new_latitude\"]  = pd.cut(df[df.ID == user]['LATITUDE'],  bins=latitude_grill,  right=True, labels=False).to_list()\r\n",
        "    df_users[user] = temp_dict\r\n",
        "\r\n",
        "# Display an example of rescaling\r\n",
        "plt.scatter(x=df_users[USER_ID][\"new_longitude\"], y=df_users[USER_ID][\"new_latitude\"])\r\n",
        "plt.show()"
      ],
      "execution_count": 12,
      "outputs": [
        {
          "output_type": "stream",
          "text": [
            "Nombre de bins pour latitude 100000\n",
            "Nombre de bins pour longitude 100000\n"
          ],
          "name": "stdout"
        },
        {
          "output_type": "display_data",
          "data": {
            "image/png": "[encoded data removed]",
            "text/plain": [
              "<Figure size 432x288 with 1 Axes>"
            ]
          },
          "metadata": {
            "tags": [],
            "needs_background": "light"
          }
        }
      ]
    },
    {
      "cell_type": "code",
      "metadata": {
        "id": "G5a3tOR1bQ41"
      },
      "source": [
        "res  = {}\r\n",
        "freq = {}\r\n",
        "\r\n",
        "for user in USERS:\r\n",
        "    res[user], freq[user] = compute_POI(user, df_users, nb_POI=nb_poi)"
      ],
      "execution_count": 13,
      "outputs": []
    },
    {
      "cell_type": "markdown",
      "metadata": {
        "id": "h2K95DeIlPye"
      },
      "source": [
        "## Plot an example"
      ]
    },
    {
      "cell_type": "code",
      "metadata": {
        "colab": {
          "base_uri": "https://localhost:8080/",
          "height": 265
        },
        "id": "fgOXMs5IlIK7",
        "outputId": "f0cdf527-01f9-478b-bebe-97848b0ab43d"
      },
      "source": [
        "x = [list(t) for t in zip(*res[USER_ID])][0]\r\n",
        "y = [list(t) for t in zip(*res[USER_ID])][1]\r\n",
        "\r\n",
        "plt.scatter(x=df_users[USER_ID][\"new_longitude\"], y=df_users[USER_ID][\"new_latitude\"], c='b')\r\n",
        "plt.scatter(x=x, y=y, s=10, c='r')\r\n",
        "plt.show()"
      ],
      "execution_count": 14,
      "outputs": [
        {
          "output_type": "display_data",
          "data": {
            "image/png": "[encoded data removed]",
            "text/plain": [
              "<Figure size 432x288 with 1 Axes>"
            ]
          },
          "metadata": {
            "tags": [],
            "needs_background": "light"
          }
        }
      ]
    },
    {
      "cell_type": "code",
      "metadata": {
        "colab": {
          "base_uri": "https://localhost:8080/"
        },
        "id": "99IBbi5CnHot",
        "outputId": "fc3bc591-f5d3-4a79-8927-3d1c7adfbb7c"
      },
      "source": [
        "print(\"POI(s) for USER_ID {} : {} \".format(USER_ID, res[USER_ID]))\r\n",
        "print(\"First POI is between : latitude {} and {}\".format(latitude_grill[res[USER_ID][0][1]],\r\n",
        "                                                         latitude_grill[res[USER_ID][0][1] + 1]))\r\n",
        "print(\"Number of points in this cell : {}\".format(freq[USER_ID][0]))"
      ],
      "execution_count": 17,
      "outputs": [
        {
          "output_type": "stream",
          "text": [
            "POI(s) for USER_ID 44 : ((46747, 58399), (46746, 58426), (46746, 58429)) \n",
            "First POI is between : latitude 45.767854194459396 and 45.7683860667094\n",
            "Number of points in this cell : 102756\n"
          ],
          "name": "stdout"
        }
      ]
    },
    {
      "cell_type": "code",
      "metadata": {
        "id": "iviI_NkPzFf6"
      },
      "source": [
        "# giving a tuple, returns all the the records inside the given cell\r\n",
        "def get_entries_in_cell(df, cell):\r\n",
        "  latitude_filtered = df.loc[(df.LATITUDE  >= latitude_grill[cell[1]]) &\r\n",
        "                             (df.LATITUDE <= latitude_grill[cell[1] + 1]) & (df.ID == USER_ID)]\r\n",
        "\r\n",
        "  mask = (latitude_filtered.LONGITUDE >= longitude_grill[cell[0]]) & (latitude_filtered.LONGITUDE <= longitude_grill[cell[0]+1])\r\n",
        "  \r\n",
        "  return latitude_filtered[mask]"
      ],
      "execution_count": 65,
      "outputs": []
    },
    {
      "cell_type": "code",
      "metadata": {
        "colab": {
          "base_uri": "https://localhost:8080/"
        },
        "id": "h9UPCBF8zzNg",
        "outputId": "26c4abb4-dd52-4900-8278-c4332bec1c5d"
      },
      "source": [
        "entries_index = get_entries_in_cell(df, res[USER_ID][0])\r\n",
        "assert len(entries_index.index) == freq[USER_ID][0]\r\n",
        "print(\"Found {} records\".format(len(entries_index.index)))"
      ],
      "execution_count": 68,
      "outputs": [
        {
          "output_type": "stream",
          "text": [
            "Found 102756 records\n"
          ],
          "name": "stdout"
        }
      ]
    }
  ]
}